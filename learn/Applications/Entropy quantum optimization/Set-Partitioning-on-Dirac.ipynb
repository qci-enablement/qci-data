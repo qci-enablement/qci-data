{
 "cells": [
  {
   "cell_type": "markdown",
   "metadata": {},
   "source": [
    "# Set Partitioning on Dirac\n",
    "#### Device: Dirac-1\n",
    "\n",
    "## Introduction\n",
    "The set partitioning problem is an optimization problem which selects sets $S_i$ from a collection $S$ such that each member $x\\in X=\\bigcup_i S_i$ is included in exactly one $S_i$ of the selected sets (see [Operations Research Journal Vol. 17, No. 5](https://doi.org/10.1287/opre.17.5.848)). It has applications in logistics, design, manufacturing and scheduling, among others. In more mathematical literature, the set partitioning problem is sometimes referred to as exact cover.\n",
    "\n",
    "The set partitioning problem is formulated by creating constraints which specify that only one out of all the sets $S_i$ of which a particular member $s$ is selected. This looks like\n",
    "$$\n",
    "\\sum_{i,x\\in S_i} s_i = 1\\quad \\forall x\\in X\n",
    "$$\n",
    "where $s_i\\in\\{0,1\\}$ indicates set $S_i$ is selected. In addition to a constraint for each member, there is an objective function which measures the cost, weight or benefit of selecting certain sets from $S$. The objective function could be any form, but we can solve linear or quadratic objective functions with Dirac. A quadratic objective function has coefficients $c_{ij},c_{i}$ for quadratic and linear terms, respectively. With the variables $s_i$, we have\n",
    "$$\n",
    "\\sum_j\\sum_i c_{ij}s_is_j + \\sum_i c_is_i.\n",
    "$$\n",
    "\n"
   ]
  },
  {
   "cell_type": "markdown",
   "metadata": {},
   "source": [
    "## Importance\n",
    "\n",
    "While the problem of set partitioning may first seem esoteric, the underlying concepts are actually quite natural and often arise in the real world, as do closely related problems. It also has a natural constraint structure that often appears in many problems (eg. one-hot constraints), enforcing that every member of each set is included once and only once. Unlike the two-way one-hot constraints seen in [travelling salesperson](https://quantumcomputinginc.com/learn/tutorials-and-use-cases/traveling-salesperson-on-dirac) or the [quadratic assignment problem](https://quantumcomputinginc.com/learn/tutorials-and-use-cases/quadratic-assignment-on-dirac), the one-hot constraints here do not form a regular structure. However, they do overlap since each set will have one constraint for each element in the set. A natural generalization of set partitioning is set cover, where the goal is to find the minimum weight configuration where each element is included at least once, but may be duplicated. A review of problems related to set partitioning and their applications can be found [here](https://link.springer.com/chapter/10.1007/978-1-4613-0303-9_).\n"
   ]
  },
  {
   "cell_type": "markdown",
   "metadata": {},
   "source": [
    "## Applications\n",
    "\n",
    "One perhaps surprising application to set partitioning is [corporate tax structuring](https://digital.case.edu/islandora/object/ksl%3AweaopeTM0362). The set partitioning constraints originate from the fact that subsidiaries can be combined for tax purposes, but each of subsidiary cannot be contained in more than one conglomerate. Since taxes must be paid on all of them, each has to be contained somewhere. Another application is [airline crew scheduling](https://www.gsb.stanford.edu/faculty-research/working-papers/exact-solution-crew-scheduling-problems-using-set-partitioning-model). In this setting, the sets are different round trips that could be assigned to a type of crew member, and exactly one of which is needed for each leg of a flight. This model straightforwardly extends to similar applications such as bus driver scheduling. The [formation of quarantine groups](https://www.tandfonline.com/doi/full/10.1080/24725854.2023.2192250) that minimize the spread of disease is another application, in this case the sets are the potential groupings, and the members of the sets are individuals being quarantined. It is clearly undesirable to place someone in multiple such groups, but every member has to go somewhere, hence the set partitioning constraint."
   ]
  },
  {
   "cell_type": "markdown",
   "metadata": {},
   "source": [
    "## Implementation\n",
    "\n",
    "In this tutorial, we utilize SetPartitionModel, an eqc-models optimization model, to solve the set partitioning problem as a [quadratic unconstrained binary optimization](https://quantumcomputinginc.com/learn/tutorials-and-use-cases/qubo-on-dirac) (QUBO) problem. The SetPartitionModel class seamlessly handles the constraints and objective function, encoding them into a solver-compatible format without requiring manual penalty construction.\n",
    "\n",
    "The constraints, defined as ensuring each element in the universal set $X$ is included in exactly one selected subset, are internally represented and enforced by the model. The model also constructs the quadratic objective function from the given weights.\n",
    "\n",
    "To enforce the constraints in SetPartitionModel, the model applies a penalty function $P(s)$, defined as:\n",
    "$$\n",
    "P(s)=s^T(A^TA)s-(2b^TA)^Ts+b^Tb,\n",
    "$$\n",
    "where $A$ is a binary matrix indicating subset membership and $b$ is a vector of ones enforcing the \"exactly one subset\" constraint. When all constraints are met, $P(s)=0$ and when any constraint is violated, $P(s)>0$.\n",
    "\n",
    "Henceforth, the total function to be optimized, combining the quadratic objective and the constraint penalty, is:\n",
    "$$\n",
    "Q(s)=\\sum_j\\sum_i c_{ij}s_is_j + \\sum_i c_is_i + \\alpha P(s),\n",
    "$$\n",
    "where $c_{ij}$ and $c_i$ represent the quadratic and linear terms of the objective and $\\alpha$ is a penalty multiplier ensuring infeasible solutions are penalized more heavily than feasible ones. This formulation allows the SetPartitionModel to encode both the constraints and the objective function into a single Hamiltonian for optimization.\n",
    "\n",
    "**Solving with Dirac1CloudSolver**\n",
    "\n",
    "The SetPartitionModel constructs the Hamiltonian $Q(s)$ and integrates seamlessly with the Dirac1CloudSolver, QCi's entropy quantum computing solver, capable of handling optimization problems efficiently. The solver minimizes $Q(s)$ to find an optimal or near-optimal solution, ensuring the constraints are respected.\n",
    "\n",
    "## Demonstration"
   ]
  },
  {
   "cell_type": "code",
   "execution_count": 1,
   "metadata": {},
   "outputs": [],
   "source": [
    "import numpy as np\n",
    "from eqc_models.assignment.setpartition import SetPartitionModel\n",
    "from eqc_models.solvers import Dirac1CloudSolver"
   ]
  },
  {
   "cell_type": "markdown",
   "metadata": {},
   "source": [
    "### Creating the Data\n",
    "$S$ is a collection of 9 different sets. The members of the sets are the letters A through F. $W$ are the weights of each subset $S_i$."
   ]
  },
  {
   "cell_type": "code",
   "execution_count": 2,
   "metadata": {},
   "outputs": [],
   "source": [
    "np.random.seed(21)\n",
    "S = [{\"A\", \"B\", \"C\"}, {\"D\", \"E\", \"F\"}, {\"A\", \"F\"}, {\"B\", \"E\"}, {\"C\", \"D\"}, {\"A\"},\n",
    "     {\"B\"}, {\"C\", \"D\", \"E\"}, {\"B\", \"C\"}]\n",
    "W = [100 * np.random.random() for S_i in S]"
   ]
  },
  {
   "cell_type": "markdown",
   "metadata": {},
   "source": [
    "Initialize the `SetPartitionModel`"
   ]
  },
  {
   "cell_type": "code",
   "execution_count": 3,
   "metadata": {},
   "outputs": [],
   "source": [
    "model = SetPartitionModel(subsets=S, weights=W)\n",
    "model.upper_bound = np.ones(len(S))\n",
    "model.penalty_multiplier = 20"
   ]
  },
  {
   "cell_type": "markdown",
   "metadata": {},
   "source": [
    "Create a connection to the REST API using `Dirac1CloudSolver`."
   ]
  },
  {
   "cell_type": "code",
   "execution_count": 5,
   "metadata": {},
   "outputs": [],
   "source": [
    "token = \"your_token\"\n",
    "api_url = \"https://api.qci-prod.com\"\n",
    "solver = Dirac1CloudSolver(api_token=token, url=api_url)"
   ]
  },
  {
   "cell_type": "markdown",
   "metadata": {},
   "source": [
    "Solve the problem using `solve` of `Dirac1CloudSolver`"
   ]
  },
  {
   "cell_type": "code",
   "execution_count": 6,
   "metadata": {},
   "outputs": [
    {
     "name": "stdout",
     "output_type": "stream",
     "text": [
      "2025-01-09 10:46:31 - Dirac allocation balance = 0 s (unmetered)\n",
      "2025-01-09 10:46:32 - Job submitted: job_id='677fef588dd54d8a9ea6064b'\n",
      "2025-01-09 10:46:32 - QUEUED\n",
      "2025-01-09 10:46:35 - RUNNING\n",
      "2025-01-09 10:46:57 - COMPLETED\n",
      "2025-01-09 10:47:00 - Dirac allocation balance = 0 s (unmetered)\n"
     ]
    }
   ],
   "source": [
    "response = solver.solve(model, num_samples=2)"
   ]
  },
  {
   "cell_type": "markdown",
   "metadata": {},
   "source": [
    "The iteration over the samples tests if each sample selected are members of $X$ (defined in `get_union` below) exactly once. 100% set coverage indicates that all members were included and a partition was found where no member is included in multiple sets simultaneously."
   ]
  },
  {
   "cell_type": "code",
   "execution_count": 8,
   "metadata": {},
   "outputs": [],
   "source": [
    "def get_union(S):\n",
    "    X = set()\n",
    "    for S_i in S:\n",
    "        X = X.union(S_i)\n",
    "    return X\n",
    "\n",
    "def check_result(results, objective=None):\n",
    "    samples = results[\"solutions\"]\n",
    "    energies = results[\"energies\"]\n",
    "    counts = results[\"counts\"]\n",
    "    X = get_union(S)\n",
    "    for j, sample in enumerate(samples):\n",
    "        print(\"QUBO value:\", energies[j])\n",
    "        print(\"Times sample found\", counts[j])\n",
    "        sample = np.array(sample)\n",
    "        if objective is not None:\n",
    "            print(\"Objective Function value:\", sample.T@objective@sample)\n",
    "        print(\"Selected Sets\")\n",
    "        testX = set()\n",
    "        members = []\n",
    "        for i in range(len(S)):\n",
    "            if sample[i] == 1:\n",
    "                print(f\"S_{i}\", end=\" \")\n",
    "                testX = testX.union(S[i])\n",
    "                members.extend(S[i])\n",
    "        print()\n",
    "        print(f\"Set coverage {100*len(testX)/len(X)}%\")\n",
    "        print(f\"Partition found: {len(testX)==len(members)}\")\n",
    "\n",
    "def get_results(response):\n",
    "    if \"results\" in response and response[\"results\"] is not None:\n",
    "        results = response[\"results\"]\n",
    "    else:\n",
    "        if \"job_info\" in response and \"job_result\" in response[\"job_info\"]:\n",
    "            details = response[\"job_info\"][\"job_result\"]\n",
    "        else:\n",
    "            details = None\n",
    "        raise RuntimeError(f\"Execution failed. See details: {details}\")\n",
    "    return results"
   ]
  },
  {
   "cell_type": "code",
   "execution_count": 9,
   "metadata": {},
   "outputs": [
    {
     "name": "stdout",
     "output_type": "stream",
     "text": [
      "QUBO value: -86.21652579307556\n",
      "Times sample found 2\n",
      "Selected Sets\n",
      "S_0 S_1 \n",
      "Set coverage 100.0%\n",
      "Partition found: True\n"
     ]
    }
   ],
   "source": [
    "results = get_results(response)\n",
    "check_result(results)\n",
    "# save the response\n",
    "penalty_only_response = response"
   ]
  },
  {
   "cell_type": "markdown",
   "metadata": {},
   "source": [
    "## Conclusion\n",
    "\n",
    "In this tutorial, we have demonstrated how to solve the set partitioning problem on our Dirac-1 device. The `SetPartitionModel` encapsulates the complexities of constraint handling and Hamiltonian construction. By combining the quadratic objective with a robust penalty formulation, where $P(s)$ ensures constraints are enforced and $Q(s)$ encodes the total optimization function, the model enables solvers like `Dirac1CloudSolver` to deliver efficient and accurate solutions to combinatorial optimization problems."
   ]
  },
  {
   "cell_type": "code",
   "execution_count": null,
   "metadata": {},
   "outputs": [],
   "source": []
  }
 ],
 "metadata": {
  "kernelspec": {
   "display_name": "eqc_models_dev_2",
   "language": "python",
   "name": "eqc_models_dev_2"
  },
  "language_info": {
   "codemirror_mode": {
    "name": "ipython",
    "version": 3
   },
   "file_extension": ".py",
   "mimetype": "text/x-python",
   "name": "python",
   "nbconvert_exporter": "python",
   "pygments_lexer": "ipython3",
   "version": "3.10.4"
  }
 },
 "nbformat": 4,
 "nbformat_minor": 4
}
